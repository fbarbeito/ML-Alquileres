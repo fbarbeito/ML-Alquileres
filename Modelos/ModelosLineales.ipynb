{
 "cells": [
  {
   "cell_type": "code",
   "execution_count": 1,
   "id": "58a623ce",
   "metadata": {},
   "outputs": [],
   "source": [
    "import numpy as np\n",
    "import pandas as pd\n",
    "import os\n",
    "from sklearn.metrics import mean_squared_error, r2_score\n",
    "import plotly.express as px\n",
    "import plotly.io as pio\n",
    "import kaleido\n",
    "from sklearn.preprocessing import LabelEncoder\n",
    "from sklearn.ensemble import RandomForestRegressor\n",
    "from sklearn.metrics import mean_absolute_error\n",
    "from sklearn.tree import export_graphviz\n",
    "from sklearn.model_selection import train_test_split\n",
    "import seaborn as sns\n",
    "import matplotlib.pyplot as plt\n",
    "from sklearn.linear_model import RANSACRegressor,HuberRegressor, LinearRegression,Lasso,Ridge, LassoCV, RidgeCV\n",
    "import statsmodels.api as sm\n",
    "import statsmodels.formula.api as smf\n",
    "from sklearn.preprocessing import normalize,StandardScaler,PolynomialFeatures\n",
    "from sklearn.feature_selection import RFE\n",
    "import matplotlib.pyplot as plt\n"
   ]
  },
  {
   "cell_type": "markdown",
   "id": "960c6639",
   "metadata": {},
   "source": [
    "Funciones"
   ]
  },
  {
   "cell_type": "code",
   "execution_count": 2,
   "id": "7b14072a",
   "metadata": {},
   "outputs": [],
   "source": [
    "def regresiones_polinomiales(func,n,X,y):\n",
    "    if isinstance(n,list)==False:\n",
    "        selector = RFE(func, n_features_to_select=n, step=1)\n",
    "        selector = selector.fit(X, y)\n",
    "        X_selected = X[:,selector.support_]\n",
    "        score = []\n",
    "        for i in range(0,100):\n",
    "            X_train,X_val,y_train,y_val = train_test_split(X_selected, y,train_size=0.8)\n",
    "            reg = func.fit(X_train, y_train)\n",
    "            score.append(reg.score(X_val,y_val))\n",
    "        return score\n",
    "    else:\n",
    "        score = []\n",
    "        sample = []\n",
    "        features = []\n",
    "        for i in range(0,100):\n",
    "            X_train,X_val,y_train,y_val = train_test_split(X, y,train_size=0.8)\n",
    "            for j in n:\n",
    "                sample.append(i)\n",
    "                selector = RFE(func, n_features_to_select=j, step=1)\n",
    "                selector = selector.fit(X, y)\n",
    "                reg = func.fit(X_train[:,selector.support_], y_train)\n",
    "                score.append(reg.score(X_val[:,selector.support_],y_val))\n",
    "                features.append(j)\n",
    "        return sample,features,score"
   ]
  },
  {
   "cell_type": "markdown",
   "id": "16fb1ae4",
   "metadata": {},
   "source": [
    "## Preparación de los datos"
   ]
  },
  {
   "cell_type": "code",
   "execution_count": 3,
   "id": "9619b8c5",
   "metadata": {},
   "outputs": [],
   "source": [
    "dir_data = 'C://Users//Usuario//Desktop//BCU/scrapping\\\\alquileres\\\\'"
   ]
  },
  {
   "cell_type": "code",
   "execution_count": 4,
   "id": "5237a2d7",
   "metadata": {},
   "outputs": [],
   "source": [
    "data = pd.read_csv(dir_data + \"data_clean.csv\",index_col=\"Fecha\")"
   ]
  },
  {
   "cell_type": "markdown",
   "id": "9311c7d4",
   "metadata": {},
   "source": [
    "Agrego interacciones"
   ]
  },
  {
   "cell_type": "markdown",
   "id": "6b18b0e5",
   "metadata": {},
   "source": [
    "Ajusto los que no tienen ni un dormitorio."
   ]
  },
  {
   "cell_type": "code",
   "execution_count": 5,
   "id": "1ff495e4",
   "metadata": {},
   "outputs": [],
   "source": [
    "data.loc[data.Dormitorios<1,[\"Dormitorios\"]] = 1"
   ]
  },
  {
   "cell_type": "code",
   "execution_count": 6,
   "id": "283006c0",
   "metadata": {},
   "outputs": [
    {
     "data": {
      "text/plain": [
       "1"
      ]
     },
     "execution_count": 6,
     "metadata": {},
     "output_type": "execute_result"
    }
   ],
   "source": [
    "data.Dormitorios.min()"
   ]
  },
  {
   "cell_type": "code",
   "execution_count": 7,
   "id": "fa9fa82f",
   "metadata": {},
   "outputs": [],
   "source": [
    "# data[\"M2xDormitorios\"] = data[\"M2\"]/data[\"Dormitorios\"]\n",
    "# # data[\"M2x2\"] = data[\"M2\"]*data[\"M2\"]\n",
    "# data[\"Dormitoriosx2\"] = data[\"Dormitorios\"]*data[\"Dormitorios\"]\n"
   ]
  },
  {
   "cell_type": "code",
   "execution_count": 8,
   "id": "34a89c67",
   "metadata": {},
   "outputs": [],
   "source": [
    "label_encoder = LabelEncoder()\n",
    "data[\"BarrioCod1\"] = list(label_encoder.fit_transform(data[\"Barrio\"]))\n",
    "data[\"BarrioCod2\"] = list(label_encoder.fit_transform(data[\"Barrio2\"]))\n",
    "data[\"DeptoCod\"] = list(label_encoder.fit_transform(data[\"Departamento\"]))\n",
    "data[\"TipoInmuebleCod\"] = list(label_encoder.fit_transform(data[\"TipoInmueble\"]))\n"
   ]
  },
  {
   "cell_type": "code",
   "execution_count": 9,
   "id": "b0d8cf57",
   "metadata": {},
   "outputs": [],
   "source": [
    "data_val = data.loc[data.index == list(data.index.unique())[len(data.index.unique())-10],:] # Tomo el de 10 días antes como validacion"
   ]
  },
  {
   "cell_type": "code",
   "execution_count": 10,
   "id": "2c9561e5",
   "metadata": {},
   "outputs": [],
   "source": [
    "data = data.loc[data.index == list(data.index.unique())[len(data.index.unique())-1],:]"
   ]
  },
  {
   "cell_type": "code",
   "execution_count": 11,
   "id": "29857972",
   "metadata": {},
   "outputs": [
    {
     "data": {
      "text/plain": [
       "'Al aplicar los filtros, quedan un total de 1654 observaciones.'"
      ]
     },
     "execution_count": 11,
     "metadata": {},
     "output_type": "execute_result"
    }
   ],
   "source": [
    "\"Al aplicar los filtros, quedan un total de \" + str(data.shape[0]) + \" observaciones.\""
   ]
  },
  {
   "cell_type": "code",
   "execution_count": 12,
   "id": "88acbc54",
   "metadata": {},
   "outputs": [
    {
     "data": {
      "text/plain": [
       "<seaborn.axisgrid.PairGrid at 0x20ce9c6ecd0>"
      ]
     },
     "execution_count": 12,
     "metadata": {},
     "output_type": "execute_result"
    },
    {
     "data": {
      "image/png": "[encoded data removed]",
      "text/plain": [
       "<Figure size 1260x180 with 8 Axes>"
      ]
     },
     "metadata": {
      "needs_background": "light"
     },
     "output_type": "display_data"
    }
   ],
   "source": [
    "sns.pairplot(data,y_vars=\"Precio\")"
   ]
  },
  {
   "cell_type": "code",
   "execution_count": 13,
   "id": "920205b6",
   "metadata": {},
   "outputs": [
    {
     "data": {
      "image/png": "[encoded data removed]",
      "text/plain": [
       "<Figure size 432x288 with 1 Axes>"
      ]
     },
     "metadata": {
      "needs_background": "light"
     },
     "output_type": "display_data"
    }
   ],
   "source": [
    "sns.histplot(data[\"Precio\"]).set_title(\"Histograma de los Precios de Alquiler\")\n",
    "plt.show()"
   ]
  },
  {
   "cell_type": "code",
   "execution_count": 14,
   "id": "a31a8ef3",
   "metadata": {},
   "outputs": [],
   "source": [
    "X = np.array(data.loc[:,[\"M2\",\"BarrioCod1\",\"BarrioCod2\",\"Dormitorios\",\"TipoInmuebleCod\",\"DeptoCod\"]])"
   ]
  },
  {
   "cell_type": "code",
   "execution_count": 15,
   "id": "6595f551",
   "metadata": {},
   "outputs": [],
   "source": [
    "y = np.array(data[\"Precio\"])"
   ]
  },
  {
   "cell_type": "markdown",
   "id": "4d6c690d",
   "metadata": {},
   "source": [
    "### Regresión lineal clásica"
   ]
  },
  {
   "cell_type": "code",
   "execution_count": 16,
   "id": "bb8b41a6",
   "metadata": {},
   "outputs": [],
   "source": [
    "reg = LinearRegression().fit(X, y)"
   ]
  },
  {
   "cell_type": "code",
   "execution_count": 17,
   "id": "591a1214",
   "metadata": {},
   "outputs": [
    {
     "data": {
      "text/plain": [
       "0.5896546711179318"
      ]
     },
     "execution_count": 17,
     "metadata": {},
     "output_type": "execute_result"
    }
   ],
   "source": [
    "reg.score(X, y)"
   ]
  },
  {
   "cell_type": "code",
   "execution_count": 18,
   "id": "44cf5a33",
   "metadata": {},
   "outputs": [
    {
     "data": {
      "text/plain": [
       "array([ 181.62738265, 1181.9374835 ,  -16.13198229,  148.18694872,\n",
       "        448.20290876,  258.461201  ])"
      ]
     },
     "execution_count": 18,
     "metadata": {},
     "output_type": "execute_result"
    }
   ],
   "source": [
    "reg.coef_"
   ]
  },
  {
   "cell_type": "code",
   "execution_count": 19,
   "id": "f39d6968",
   "metadata": {
    "scrolled": true
   },
   "outputs": [
    {
     "data": {
      "text/plain": [
       "<AxesSubplot:>"
      ]
     },
     "execution_count": 19,
     "metadata": {},
     "output_type": "execute_result"
    },
    {
     "data": {
      "image/png": "[encoded data removed]",
      "text/plain": [
       "<Figure size 432x288 with 1 Axes>"
      ]
     },
     "metadata": {
      "needs_background": "light"
     },
     "output_type": "display_data"
    }
   ],
   "source": [
    "y_predict = reg.predict(X)\n",
    "pd.DataFrame({\"Precio\":y,\"Forecast_n\":y_predict}).plot()"
   ]
  },
  {
   "cell_type": "markdown",
   "id": "07d29898",
   "metadata": {},
   "source": [
    "Hay un problema en los precios de los alquileres altos y bajos que el modelo no llega a captar. Esto puede deberse a características que no están en el básico de las publicaciones (años de aniguedad, contratos temporales, comodidas, etc). Una solución sería poner una dummy para los precios bajos y altos definiendo un umbral."
   ]
  },
  {
   "cell_type": "code",
   "execution_count": 20,
   "id": "0c336c8f",
   "metadata": {},
   "outputs": [
    {
     "data": {
      "text/plain": [
       "<AxesSubplot:xlabel='residuos', ylabel='Precio'>"
      ]
     },
     "execution_count": 20,
     "metadata": {},
     "output_type": "execute_result"
    },
    {
     "data": {
      "image/png": "[encoded data removed]",
      "text/plain": [
       "<Figure size 432x288 with 1 Axes>"
      ]
     },
     "metadata": {
      "needs_background": "light"
     },
     "output_type": "display_data"
    }
   ],
   "source": [
    "prediccion = pd.DataFrame({\"Precio\":y,\"Forecast\":y_predict})\n",
    "prediccion[\"residuos\"] = prediccion[\"Precio\"] - prediccion[\"Forecast\"]\n",
    "sns.scatterplot(x=prediccion[\"residuos\"],y=prediccion[\"Precio\"])"
   ]
  },
  {
   "cell_type": "markdown",
   "id": "3bf1baff",
   "metadata": {},
   "source": [
    "### Regresión cuadrática "
   ]
  },
  {
   "cell_type": "code",
   "execution_count": 21,
   "id": "98db15b5",
   "metadata": {},
   "outputs": [],
   "source": [
    "X_scale = StandardScaler().fit_transform(X)"
   ]
  },
  {
   "cell_type": "code",
   "execution_count": 22,
   "id": "50175a45",
   "metadata": {},
   "outputs": [],
   "source": [
    "poly_x = PolynomialFeatures(degree=2)"
   ]
  },
  {
   "cell_type": "code",
   "execution_count": 23,
   "id": "a1934492",
   "metadata": {},
   "outputs": [],
   "source": [
    "X_scale2 = poly_x.fit_transform(X_scale)"
   ]
  },
  {
   "cell_type": "code",
   "execution_count": 24,
   "id": "2acc9f95",
   "metadata": {},
   "outputs": [],
   "source": [
    "reg_pol = LinearRegression()\n",
    "reg_pol = reg_pol.fit(X_scale2,y)"
   ]
  },
  {
   "cell_type": "code",
   "execution_count": 25,
   "id": "353bb2b3",
   "metadata": {},
   "outputs": [
    {
     "data": {
      "text/plain": [
       "0.7098776289719639"
      ]
     },
     "execution_count": 25,
     "metadata": {},
     "output_type": "execute_result"
    }
   ],
   "source": [
    "reg_pol.score(X_scale2,y)"
   ]
  },
  {
   "cell_type": "markdown",
   "id": "7f481246",
   "metadata": {},
   "source": [
    "El R cuadrado se incrementa notablemente.  Pero puede haber un problema de overfitting"
   ]
  },
  {
   "cell_type": "code",
   "execution_count": 26,
   "id": "99b2cea9",
   "metadata": {},
   "outputs": [],
   "source": [
    "reg_pol = LinearRegression()\n",
    "features = []\n",
    "scores = []\n",
    "for i in range(1,X_scale2.shape[1]):\n",
    "    score = regresiones_polinomiales(reg_pol,i,X_scale2,y)\n",
    "    features += list(np.repeat(i,len(score)))\n",
    "    scores += score"
   ]
  },
  {
   "cell_type": "code",
   "execution_count": 27,
   "id": "aa2108d9",
   "metadata": {},
   "outputs": [],
   "source": [
    "Features = pd.DataFrame({\"Features\":features,\"Scores\":scores})"
   ]
  },
  {
   "cell_type": "code",
   "execution_count": 28,
   "id": "fbbefa43",
   "metadata": {},
   "outputs": [],
   "source": [
    "mean_Features= Features.groupby(\"Features\").mean()\n",
    "median_Features= Features.groupby(\"Features\").median()\n",
    "min_Features= Features.groupby(\"Features\").min()\n"
   ]
  },
  {
   "cell_type": "code",
   "execution_count": 29,
   "id": "4de95009",
   "metadata": {},
   "outputs": [
    {
     "data": {
      "image/png": "[encoded data removed]",
      "text/plain": [
       "<Figure size 432x288 with 1 Axes>"
      ]
     },
     "metadata": {
      "needs_background": "light"
     },
     "output_type": "display_data"
    }
   ],
   "source": [
    "fig =sns.barplot(data = mean_Features,y=\"Scores\",x=mean_Features.index)\n",
    "fig.set_title(\"R2 medio por catidad de features\")\n",
    "plt.show()"
   ]
  },
  {
   "cell_type": "code",
   "execution_count": 30,
   "id": "3ed6b3b5",
   "metadata": {},
   "outputs": [
    {
     "data": {
      "image/png": "[encoded data removed]",
      "text/plain": [
       "<Figure size 432x288 with 1 Axes>"
      ]
     },
     "metadata": {
      "needs_background": "light"
     },
     "output_type": "display_data"
    }
   ],
   "source": [
    "fig =sns.barplot(data = median_Features,y=\"Scores\",x=median_Features.index)\n",
    "fig.set_title(\"R2 mediano por catidad de features\")\n",
    "plt.show()"
   ]
  },
  {
   "cell_type": "code",
   "execution_count": 31,
   "id": "96c32ea0",
   "metadata": {},
   "outputs": [
    {
     "data": {
      "image/png": "[encoded data removed]",
      "text/plain": [
       "<Figure size 432x288 with 1 Axes>"
      ]
     },
     "metadata": {
      "needs_background": "light"
     },
     "output_type": "display_data"
    }
   ],
   "source": [
    "fig =sns.barplot(data = min_Features,y=\"Scores\",x=min_Features.index)\n",
    "fig.set_title(\"R2 mínimo por catidad de features\")\n",
    "plt.show()"
   ]
  },
  {
   "cell_type": "code",
   "execution_count": 32,
   "id": "353f4381",
   "metadata": {},
   "outputs": [
    {
     "data": {
      "text/html": [
       "<div>\n",
       "<style scoped>\n",
       "    .dataframe tbody tr th:only-of-type {\n",
       "        vertical-align: middle;\n",
       "    }\n",
       "\n",
       "    .dataframe tbody tr th {\n",
       "        vertical-align: top;\n",
       "    }\n",
       "\n",
       "    .dataframe thead th {\n",
       "        text-align: right;\n",
       "    }\n",
       "</style>\n",
       "<table border=\"1\" class=\"dataframe\">\n",
       "  <thead>\n",
       "    <tr style=\"text-align: right;\">\n",
       "      <th></th>\n",
       "      <th>Scores</th>\n",
       "    </tr>\n",
       "    <tr>\n",
       "      <th>Features</th>\n",
       "      <th></th>\n",
       "    </tr>\n",
       "  </thead>\n",
       "  <tbody>\n",
       "    <tr>\n",
       "      <th>12</th>\n",
       "      <td>0.531712</td>\n",
       "    </tr>\n",
       "    <tr>\n",
       "      <th>9</th>\n",
       "      <td>0.527485</td>\n",
       "    </tr>\n",
       "    <tr>\n",
       "      <th>8</th>\n",
       "      <td>0.527033</td>\n",
       "    </tr>\n",
       "    <tr>\n",
       "      <th>10</th>\n",
       "      <td>0.511017</td>\n",
       "    </tr>\n",
       "  </tbody>\n",
       "</table>\n",
       "</div>"
      ],
      "text/plain": [
       "            Scores\n",
       "Features          \n",
       "12        0.531712\n",
       "9         0.527485\n",
       "8         0.527033\n",
       "10        0.511017"
      ]
     },
     "execution_count": 32,
     "metadata": {},
     "output_type": "execute_result"
    }
   ],
   "source": [
    "mean_Features.sort_values(\"Scores\",ascending=False).iloc[:4,:]"
   ]
  },
  {
   "cell_type": "code",
   "execution_count": 33,
   "id": "de2f32a5",
   "metadata": {},
   "outputs": [
    {
     "data": {
      "text/html": [
       "<div>\n",
       "<style scoped>\n",
       "    .dataframe tbody tr th:only-of-type {\n",
       "        vertical-align: middle;\n",
       "    }\n",
       "\n",
       "    .dataframe tbody tr th {\n",
       "        vertical-align: top;\n",
       "    }\n",
       "\n",
       "    .dataframe thead th {\n",
       "        text-align: right;\n",
       "    }\n",
       "</style>\n",
       "<table border=\"1\" class=\"dataframe\">\n",
       "  <thead>\n",
       "    <tr style=\"text-align: right;\">\n",
       "      <th></th>\n",
       "      <th>Scores</th>\n",
       "    </tr>\n",
       "    <tr>\n",
       "      <th>Features</th>\n",
       "      <th></th>\n",
       "    </tr>\n",
       "  </thead>\n",
       "  <tbody>\n",
       "    <tr>\n",
       "      <th>8</th>\n",
       "      <td>0.516759</td>\n",
       "    </tr>\n",
       "    <tr>\n",
       "      <th>12</th>\n",
       "      <td>0.514500</td>\n",
       "    </tr>\n",
       "    <tr>\n",
       "      <th>19</th>\n",
       "      <td>0.513337</td>\n",
       "    </tr>\n",
       "    <tr>\n",
       "      <th>9</th>\n",
       "      <td>0.508183</td>\n",
       "    </tr>\n",
       "  </tbody>\n",
       "</table>\n",
       "</div>"
      ],
      "text/plain": [
       "            Scores\n",
       "Features          \n",
       "8         0.516759\n",
       "12        0.514500\n",
       "19        0.513337\n",
       "9         0.508183"
      ]
     },
     "execution_count": 33,
     "metadata": {},
     "output_type": "execute_result"
    }
   ],
   "source": [
    "median_Features.sort_values(\"Scores\",ascending=False).iloc[:4,:]"
   ]
  },
  {
   "cell_type": "markdown",
   "id": "482326ca",
   "metadata": {},
   "source": [
    "Hay que poner a competir los modelos con 11,10,8,9 y 13 features. Los primeros en el ranking en mediana y media."
   ]
  },
  {
   "cell_type": "code",
   "execution_count": 34,
   "id": "bd9a39ed",
   "metadata": {},
   "outputs": [],
   "source": [
    "sample,features,score = regresiones_polinomiales(reg_pol,[8,9,10,11,13],X_scale2,y)"
   ]
  },
  {
   "cell_type": "code",
   "execution_count": 35,
   "id": "9581211b",
   "metadata": {},
   "outputs": [],
   "source": [
    "Features = pd.DataFrame({\"Sample\":sample,\"Features\":features,\"Scores\":score}).set_index(\"Sample\")"
   ]
  },
  {
   "cell_type": "code",
   "execution_count": 36,
   "id": "10223396",
   "metadata": {},
   "outputs": [
    {
     "data": {
      "image/png": "[encoded data removed]",
      "text/plain": [
       "<Figure size 432x288 with 1 Axes>"
      ]
     },
     "metadata": {
      "needs_background": "light"
     },
     "output_type": "display_data"
    }
   ],
   "source": [
    "palette = sns.color_palette(\"Set2\",5)\n",
    "fig = sns.lineplot(data=Features,x=\"Sample\",y=\"Scores\",hue=\"Features\",style=\"Features\",palette=palette)\n",
    "fig.set_title(\"R2 por modelos seleccionados\")\n",
    "plt.legend(bbox_to_anchor=(1.05, 1), loc=2, borderaxespad=0.)\n",
    "plt.show()"
   ]
  },
  {
   "cell_type": "markdown",
   "id": "fb8f43a0",
   "metadata": {},
   "source": [
    "Los modelos son bastante parejos en desempeño gráficamente."
   ]
  },
  {
   "cell_type": "code",
   "execution_count": 37,
   "id": "70ad241a",
   "metadata": {},
   "outputs": [
    {
     "data": {
      "text/html": [
       "<div>\n",
       "<style scoped>\n",
       "    .dataframe tbody tr th:only-of-type {\n",
       "        vertical-align: middle;\n",
       "    }\n",
       "\n",
       "    .dataframe tbody tr th {\n",
       "        vertical-align: top;\n",
       "    }\n",
       "\n",
       "    .dataframe thead th {\n",
       "        text-align: right;\n",
       "    }\n",
       "</style>\n",
       "<table border=\"1\" class=\"dataframe\">\n",
       "  <thead>\n",
       "    <tr style=\"text-align: right;\">\n",
       "      <th></th>\n",
       "      <th>Scores</th>\n",
       "    </tr>\n",
       "    <tr>\n",
       "      <th>Features</th>\n",
       "      <th></th>\n",
       "    </tr>\n",
       "  </thead>\n",
       "  <tbody>\n",
       "    <tr>\n",
       "      <th>8</th>\n",
       "      <td>0.533471</td>\n",
       "    </tr>\n",
       "    <tr>\n",
       "      <th>9</th>\n",
       "      <td>0.541170</td>\n",
       "    </tr>\n",
       "    <tr>\n",
       "      <th>10</th>\n",
       "      <td>0.533364</td>\n",
       "    </tr>\n",
       "    <tr>\n",
       "      <th>11</th>\n",
       "      <td>0.532224</td>\n",
       "    </tr>\n",
       "    <tr>\n",
       "      <th>13</th>\n",
       "      <td>0.531245</td>\n",
       "    </tr>\n",
       "  </tbody>\n",
       "</table>\n",
       "</div>"
      ],
      "text/plain": [
       "            Scores\n",
       "Features          \n",
       "8         0.533471\n",
       "9         0.541170\n",
       "10        0.533364\n",
       "11        0.532224\n",
       "13        0.531245"
      ]
     },
     "execution_count": 37,
     "metadata": {},
     "output_type": "execute_result"
    }
   ],
   "source": [
    "Features.groupby(\"Features\").mean()"
   ]
  },
  {
   "cell_type": "code",
   "execution_count": 38,
   "id": "34c4cc52",
   "metadata": {},
   "outputs": [
    {
     "data": {
      "text/html": [
       "<div>\n",
       "<style scoped>\n",
       "    .dataframe tbody tr th:only-of-type {\n",
       "        vertical-align: middle;\n",
       "    }\n",
       "\n",
       "    .dataframe tbody tr th {\n",
       "        vertical-align: top;\n",
       "    }\n",
       "\n",
       "    .dataframe thead th {\n",
       "        text-align: right;\n",
       "    }\n",
       "</style>\n",
       "<table border=\"1\" class=\"dataframe\">\n",
       "  <thead>\n",
       "    <tr style=\"text-align: right;\">\n",
       "      <th></th>\n",
       "      <th>Scores</th>\n",
       "    </tr>\n",
       "    <tr>\n",
       "      <th>Features</th>\n",
       "      <th></th>\n",
       "    </tr>\n",
       "  </thead>\n",
       "  <tbody>\n",
       "    <tr>\n",
       "      <th>8</th>\n",
       "      <td>0.515658</td>\n",
       "    </tr>\n",
       "    <tr>\n",
       "      <th>9</th>\n",
       "      <td>0.526071</td>\n",
       "    </tr>\n",
       "    <tr>\n",
       "      <th>10</th>\n",
       "      <td>0.519421</td>\n",
       "    </tr>\n",
       "    <tr>\n",
       "      <th>11</th>\n",
       "      <td>0.518735</td>\n",
       "    </tr>\n",
       "    <tr>\n",
       "      <th>13</th>\n",
       "      <td>0.519261</td>\n",
       "    </tr>\n",
       "  </tbody>\n",
       "</table>\n",
       "</div>"
      ],
      "text/plain": [
       "            Scores\n",
       "Features          \n",
       "8         0.515658\n",
       "9         0.526071\n",
       "10        0.519421\n",
       "11        0.518735\n",
       "13        0.519261"
      ]
     },
     "execution_count": 38,
     "metadata": {},
     "output_type": "execute_result"
    }
   ],
   "source": [
    "Features.groupby(\"Features\").median()"
   ]
  },
  {
   "cell_type": "code",
   "execution_count": 39,
   "id": "a2addda4",
   "metadata": {},
   "outputs": [
    {
     "data": {
      "text/html": [
       "<div>\n",
       "<style scoped>\n",
       "    .dataframe tbody tr th:only-of-type {\n",
       "        vertical-align: middle;\n",
       "    }\n",
       "\n",
       "    .dataframe tbody tr th {\n",
       "        vertical-align: top;\n",
       "    }\n",
       "\n",
       "    .dataframe thead th {\n",
       "        text-align: right;\n",
       "    }\n",
       "</style>\n",
       "<table border=\"1\" class=\"dataframe\">\n",
       "  <thead>\n",
       "    <tr style=\"text-align: right;\">\n",
       "      <th></th>\n",
       "      <th>Scores</th>\n",
       "    </tr>\n",
       "    <tr>\n",
       "      <th>Features</th>\n",
       "      <th></th>\n",
       "    </tr>\n",
       "  </thead>\n",
       "  <tbody>\n",
       "    <tr>\n",
       "      <th>8</th>\n",
       "      <td>0.102494</td>\n",
       "    </tr>\n",
       "    <tr>\n",
       "      <th>9</th>\n",
       "      <td>0.101682</td>\n",
       "    </tr>\n",
       "    <tr>\n",
       "      <th>10</th>\n",
       "      <td>0.100535</td>\n",
       "    </tr>\n",
       "    <tr>\n",
       "      <th>11</th>\n",
       "      <td>0.097851</td>\n",
       "    </tr>\n",
       "    <tr>\n",
       "      <th>13</th>\n",
       "      <td>0.098240</td>\n",
       "    </tr>\n",
       "  </tbody>\n",
       "</table>\n",
       "</div>"
      ],
      "text/plain": [
       "            Scores\n",
       "Features          \n",
       "8         0.102494\n",
       "9         0.101682\n",
       "10        0.100535\n",
       "11        0.097851\n",
       "13        0.098240"
      ]
     },
     "execution_count": 39,
     "metadata": {},
     "output_type": "execute_result"
    }
   ],
   "source": [
    "Features.groupby(\"Features\").std()"
   ]
  },
  {
   "cell_type": "markdown",
   "id": "6c6833f3",
   "metadata": {},
   "source": [
    "El mejor modelo seria el que tiene 9 características."
   ]
  },
  {
   "cell_type": "code",
   "execution_count": 40,
   "id": "339b4530",
   "metadata": {},
   "outputs": [],
   "source": [
    "reg_pol = LinearRegression()"
   ]
  },
  {
   "cell_type": "code",
   "execution_count": 41,
   "id": "601a2f27",
   "metadata": {},
   "outputs": [],
   "source": [
    "selector = RFE(reg_pol, n_features_to_select=9, step=1)\n",
    "selector = selector.fit(X_scale2, y)"
   ]
  },
  {
   "cell_type": "code",
   "execution_count": 42,
   "id": "2bc6331c",
   "metadata": {},
   "outputs": [],
   "source": [
    "X_scale2_best = X_scale2[:,selector.support_]"
   ]
  },
  {
   "cell_type": "code",
   "execution_count": 43,
   "id": "400f6c3b",
   "metadata": {},
   "outputs": [],
   "source": [
    "x_selected_polinomio = selector.support_"
   ]
  },
  {
   "cell_type": "code",
   "execution_count": 44,
   "id": "2d432666",
   "metadata": {},
   "outputs": [],
   "source": [
    "reg_pol_best = LinearRegression().fit(X_scale2_best, y)"
   ]
  },
  {
   "cell_type": "code",
   "execution_count": 45,
   "id": "d8c2efef",
   "metadata": {},
   "outputs": [
    {
     "data": {
      "text/plain": [
       "0.6471570692655101"
      ]
     },
     "execution_count": 45,
     "metadata": {},
     "output_type": "execute_result"
    }
   ],
   "source": [
    "reg_pol_best.score(X_scale2_best,y)"
   ]
  },
  {
   "cell_type": "markdown",
   "id": "8203d065",
   "metadata": {},
   "source": [
    "El modelo mejora respecto al lineal"
   ]
  },
  {
   "cell_type": "code",
   "execution_count": 46,
   "id": "bdc306d2",
   "metadata": {},
   "outputs": [
    {
     "data": {
      "text/plain": [
       "<AxesSubplot:>"
      ]
     },
     "execution_count": 46,
     "metadata": {},
     "output_type": "execute_result"
    },
    {
     "data": {
      "image/png": "[encoded data removed]",
      "text/plain": [
       "<Figure size 432x288 with 1 Axes>"
      ]
     },
     "metadata": {
      "needs_background": "light"
     },
     "output_type": "display_data"
    }
   ],
   "source": [
    "y_predict = reg_pol_best.predict(X_scale2_best)\n",
    "pd.DataFrame({\"Precio\":y,\"Forecast_n\":y_predict}).plot()"
   ]
  },
  {
   "cell_type": "code",
   "execution_count": 47,
   "id": "62610bdb",
   "metadata": {},
   "outputs": [
    {
     "data": {
      "text/plain": [
       "<AxesSubplot:xlabel='residuos', ylabel='Precio'>"
      ]
     },
     "execution_count": 47,
     "metadata": {},
     "output_type": "execute_result"
    },
    {
     "data": {
      "image/png": "[encoded data removed]",
      "text/plain": [
       "<Figure size 432x288 with 1 Axes>"
      ]
     },
     "metadata": {
      "needs_background": "light"
     },
     "output_type": "display_data"
    }
   ],
   "source": [
    "prediccion = pd.DataFrame({\"Precio\":y,\"Forecast\":y_predict})\n",
    "prediccion[\"residuos\"] = prediccion[\"Precio\"] - prediccion[\"Forecast\"]\n",
    "sns.scatterplot(x=prediccion[\"residuos\"],y=prediccion[\"Precio\"])"
   ]
  },
  {
   "cell_type": "markdown",
   "id": "12fa8750",
   "metadata": {},
   "source": [
    "Mejora bastante la correlación entre los precios y los residuos del modelo."
   ]
  },
  {
   "cell_type": "markdown",
   "id": "a460daa7",
   "metadata": {},
   "source": [
    "### Regresiones lineales con métodos de regularización"
   ]
  },
  {
   "cell_type": "markdown",
   "id": "448b2018",
   "metadata": {},
   "source": [
    "#### Ridge"
   ]
  },
  {
   "cell_type": "markdown",
   "id": "dfe46528",
   "metadata": {},
   "source": [
    "Uno de los modelos de regularización. Se utiliza k-fold cross validation para obtener el mejor alpha que penalizan la suma cuadrada de los betas. Se arma un indicador de posibles alphas y se los pasa al algoritmo para que revalué con los k-fold y asegurarnos de que sea el óptimo. Por último, se compara con el modelo de regresión lineal por cross validation."
   ]
  },
  {
   "cell_type": "code",
   "execution_count": 48,
   "id": "0e7354a8",
   "metadata": {},
   "outputs": [],
   "source": [
    "alphas = np.linspace(start=0,stop=300,num=600)[1:len(list(np.linspace(start=0,stop=300,num=600)))]"
   ]
  },
  {
   "cell_type": "code",
   "execution_count": 49,
   "id": "8790a5ec",
   "metadata": {},
   "outputs": [],
   "source": [
    "ridge_mod = RidgeCV(cv=5,normalize=True,alphas = alphas)"
   ]
  },
  {
   "cell_type": "code",
   "execution_count": 50,
   "id": "cc9a9f32",
   "metadata": {},
   "outputs": [],
   "source": [
    "alpha_selected_first = ridge_mod.fit(X_scale2,y).alpha_"
   ]
  },
  {
   "cell_type": "code",
   "execution_count": 51,
   "id": "1d7ca4a4",
   "metadata": {},
   "outputs": [],
   "source": [
    "ridge = Ridge(alpha=alpha_selected_first,normalize=True)"
   ]
  },
  {
   "cell_type": "code",
   "execution_count": 52,
   "id": "d910b072",
   "metadata": {},
   "outputs": [],
   "source": [
    "features = []\n",
    "scores = []\n",
    "for i in range(1,X_scale2.shape[1]):\n",
    "    score = regresiones_polinomiales(ridge,i,X_scale2,y)\n",
    "    features += list(np.repeat(i,len(score)))\n",
    "    scores += score\n"
   ]
  },
  {
   "cell_type": "code",
   "execution_count": 53,
   "id": "d0056afa",
   "metadata": {},
   "outputs": [],
   "source": [
    "Features = pd.DataFrame({\"Features\":features,\"Scores\":scores})"
   ]
  },
  {
   "cell_type": "code",
   "execution_count": 54,
   "id": "36770484",
   "metadata": {},
   "outputs": [],
   "source": [
    "mean_Features= Features.groupby(\"Features\").mean()\n",
    "median_Features= Features.groupby(\"Features\").median()\n",
    "min_Features= Features.groupby(\"Features\").min()"
   ]
  },
  {
   "cell_type": "code",
   "execution_count": 55,
   "id": "8c104d16",
   "metadata": {},
   "outputs": [
    {
     "data": {
      "text/html": [
       "<div>\n",
       "<style scoped>\n",
       "    .dataframe tbody tr th:only-of-type {\n",
       "        vertical-align: middle;\n",
       "    }\n",
       "\n",
       "    .dataframe tbody tr th {\n",
       "        vertical-align: top;\n",
       "    }\n",
       "\n",
       "    .dataframe thead th {\n",
       "        text-align: right;\n",
       "    }\n",
       "</style>\n",
       "<table border=\"1\" class=\"dataframe\">\n",
       "  <thead>\n",
       "    <tr style=\"text-align: right;\">\n",
       "      <th></th>\n",
       "      <th>Scores</th>\n",
       "    </tr>\n",
       "    <tr>\n",
       "      <th>Features</th>\n",
       "      <th></th>\n",
       "    </tr>\n",
       "  </thead>\n",
       "  <tbody>\n",
       "    <tr>\n",
       "      <th>12</th>\n",
       "      <td>0.248563</td>\n",
       "    </tr>\n",
       "    <tr>\n",
       "      <th>13</th>\n",
       "      <td>0.243507</td>\n",
       "    </tr>\n",
       "    <tr>\n",
       "      <th>5</th>\n",
       "      <td>0.239227</td>\n",
       "    </tr>\n",
       "    <tr>\n",
       "      <th>10</th>\n",
       "      <td>0.237968</td>\n",
       "    </tr>\n",
       "  </tbody>\n",
       "</table>\n",
       "</div>"
      ],
      "text/plain": [
       "            Scores\n",
       "Features          \n",
       "12        0.248563\n",
       "13        0.243507\n",
       "5         0.239227\n",
       "10        0.237968"
      ]
     },
     "execution_count": 55,
     "metadata": {},
     "output_type": "execute_result"
    }
   ],
   "source": [
    "mean_Features.sort_values(\"Scores\",ascending=False)[:4]"
   ]
  },
  {
   "cell_type": "code",
   "execution_count": 56,
   "id": "84c7d99c",
   "metadata": {},
   "outputs": [
    {
     "data": {
      "text/html": [
       "<div>\n",
       "<style scoped>\n",
       "    .dataframe tbody tr th:only-of-type {\n",
       "        vertical-align: middle;\n",
       "    }\n",
       "\n",
       "    .dataframe tbody tr th {\n",
       "        vertical-align: top;\n",
       "    }\n",
       "\n",
       "    .dataframe thead th {\n",
       "        text-align: right;\n",
       "    }\n",
       "</style>\n",
       "<table border=\"1\" class=\"dataframe\">\n",
       "  <thead>\n",
       "    <tr style=\"text-align: right;\">\n",
       "      <th></th>\n",
       "      <th>Scores</th>\n",
       "    </tr>\n",
       "    <tr>\n",
       "      <th>Features</th>\n",
       "      <th></th>\n",
       "    </tr>\n",
       "  </thead>\n",
       "  <tbody>\n",
       "    <tr>\n",
       "      <th>20</th>\n",
       "      <td>0.156768</td>\n",
       "    </tr>\n",
       "    <tr>\n",
       "      <th>17</th>\n",
       "      <td>0.155263</td>\n",
       "    </tr>\n",
       "    <tr>\n",
       "      <th>18</th>\n",
       "      <td>0.154104</td>\n",
       "    </tr>\n",
       "    <tr>\n",
       "      <th>13</th>\n",
       "      <td>0.152242</td>\n",
       "    </tr>\n",
       "  </tbody>\n",
       "</table>\n",
       "</div>"
      ],
      "text/plain": [
       "            Scores\n",
       "Features          \n",
       "20        0.156768\n",
       "17        0.155263\n",
       "18        0.154104\n",
       "13        0.152242"
      ]
     },
     "execution_count": 56,
     "metadata": {},
     "output_type": "execute_result"
    }
   ],
   "source": [
    "median_Features.sort_values(\"Scores\",ascending=False)[:4]"
   ]
  },
  {
   "cell_type": "code",
   "execution_count": 57,
   "id": "555a39b1",
   "metadata": {},
   "outputs": [
    {
     "data": {
      "text/html": [
       "<div>\n",
       "<style scoped>\n",
       "    .dataframe tbody tr th:only-of-type {\n",
       "        vertical-align: middle;\n",
       "    }\n",
       "\n",
       "    .dataframe tbody tr th {\n",
       "        vertical-align: top;\n",
       "    }\n",
       "\n",
       "    .dataframe thead th {\n",
       "        text-align: right;\n",
       "    }\n",
       "</style>\n",
       "<table border=\"1\" class=\"dataframe\">\n",
       "  <thead>\n",
       "    <tr style=\"text-align: right;\">\n",
       "      <th></th>\n",
       "      <th>Scores</th>\n",
       "    </tr>\n",
       "    <tr>\n",
       "      <th>Features</th>\n",
       "      <th></th>\n",
       "    </tr>\n",
       "  </thead>\n",
       "  <tbody>\n",
       "    <tr>\n",
       "      <th>13</th>\n",
       "      <td>0.082508</td>\n",
       "    </tr>\n",
       "    <tr>\n",
       "      <th>18</th>\n",
       "      <td>0.082444</td>\n",
       "    </tr>\n",
       "    <tr>\n",
       "      <th>15</th>\n",
       "      <td>0.075380</td>\n",
       "    </tr>\n",
       "    <tr>\n",
       "      <th>1</th>\n",
       "      <td>0.063935</td>\n",
       "    </tr>\n",
       "    <tr>\n",
       "      <th>5</th>\n",
       "      <td>0.063432</td>\n",
       "    </tr>\n",
       "    <tr>\n",
       "      <th>6</th>\n",
       "      <td>0.063276</td>\n",
       "    </tr>\n",
       "    <tr>\n",
       "      <th>11</th>\n",
       "      <td>0.056464</td>\n",
       "    </tr>\n",
       "    <tr>\n",
       "      <th>10</th>\n",
       "      <td>0.050554</td>\n",
       "    </tr>\n",
       "    <tr>\n",
       "      <th>9</th>\n",
       "      <td>0.050285</td>\n",
       "    </tr>\n",
       "  </tbody>\n",
       "</table>\n",
       "</div>"
      ],
      "text/plain": [
       "            Scores\n",
       "Features          \n",
       "13        0.082508\n",
       "18        0.082444\n",
       "15        0.075380\n",
       "1         0.063935\n",
       "5         0.063432\n",
       "6         0.063276\n",
       "11        0.056464\n",
       "10        0.050554\n",
       "9         0.050285"
      ]
     },
     "execution_count": 57,
     "metadata": {},
     "output_type": "execute_result"
    }
   ],
   "source": [
    "min_Features.sort_values(\"Scores\",ascending=False)[:9]"
   ]
  },
  {
   "cell_type": "markdown",
   "id": "2a0a6741",
   "metadata": {},
   "source": [
    "El de 18 parece ser el mejor. Se estima de 9 y 18."
   ]
  },
  {
   "cell_type": "code",
   "execution_count": 58,
   "id": "fecd6bd7",
   "metadata": {},
   "outputs": [],
   "source": [
    "selector = RFE(ridge, n_features_to_select=18, step=1)\n",
    "selector = selector.fit(X_scale2, y)"
   ]
  },
  {
   "cell_type": "code",
   "execution_count": 59,
   "id": "e16c1099",
   "metadata": {},
   "outputs": [],
   "source": [
    "ridge_mod = RidgeCV(cv=50,normalize=True,alphas=alphas).fit(X_scale2[:,selector.support_], y)"
   ]
  },
  {
   "cell_type": "code",
   "execution_count": 60,
   "id": "21b072dd",
   "metadata": {},
   "outputs": [],
   "source": [
    "x_selected_ridge = selector.support_"
   ]
  },
  {
   "cell_type": "code",
   "execution_count": 61,
   "id": "67d0fdf4",
   "metadata": {},
   "outputs": [
    {
     "data": {
      "text/plain": [
       "0.5962218664802242"
      ]
     },
     "execution_count": 61,
     "metadata": {},
     "output_type": "execute_result"
    }
   ],
   "source": [
    "ridge_mod.score(X_scale2[:,selector.support_], y)"
   ]
  },
  {
   "cell_type": "code",
   "execution_count": 62,
   "id": "a272aa9a",
   "metadata": {},
   "outputs": [],
   "source": [
    "alpha_selected_ridge = ridge_mod.alpha_"
   ]
  },
  {
   "cell_type": "markdown",
   "id": "8ce323a3",
   "metadata": {},
   "source": [
    "Tiene menos score, pero es evidente que tiene que suceder, ya que el modelo lineal es el que minimiza los valores dentro de la muestra. Para ponerlos a competir hay que hacer cross validation. Debemos seleccionar el alpha con este método también"
   ]
  },
  {
   "cell_type": "code",
   "execution_count": 63,
   "id": "82102498",
   "metadata": {},
   "outputs": [],
   "source": [
    "score_polinomio = []\n",
    "score_ridge = []\n",
    "sample = []\n",
    "for i in range(0,100):\n",
    "    train_X, val_X, train_y, val_y = train_test_split(X_scale2, y,train_size=0.8)\n",
    "    ridge = Ridge(alpha=alpha_selected_ridge).fit(train_X[:,x_selected_ridge],train_y)\n",
    "    score_ridge.append(ridge.score(val_X[:,x_selected_ridge],val_y))\n",
    "    pol = LinearRegression().fit(train_X[:,x_selected_polinomio],train_y)\n",
    "    score_polinomio.append(pol.score(val_X[:,x_selected_polinomio],val_y))\n"
   ]
  },
  {
   "cell_type": "code",
   "execution_count": 64,
   "id": "775b0ef7",
   "metadata": {},
   "outputs": [
    {
     "data": {
      "text/plain": [
       "<AxesSubplot:>"
      ]
     },
     "execution_count": 64,
     "metadata": {},
     "output_type": "execute_result"
    },
    {
     "data": {
      "image/png": "[encoded data removed]",
      "text/plain": [
       "<Figure size 432x288 with 1 Axes>"
      ]
     },
     "metadata": {
      "needs_background": "light"
     },
     "output_type": "display_data"
    }
   ],
   "source": [
    "prediccion_ridge = pd.DataFrame({\"Ridge\": score_ridge, \"Polinomio\":score_polinomio})\n",
    "prediccion_ridge.plot()"
   ]
  },
  {
   "cell_type": "markdown",
   "id": "e53e968c",
   "metadata": {},
   "source": [
    "El comportamiento del ridge esta muy por debajo. Debe haber un problema de overfitting. Se usa la mismas features que el modelo lineal"
   ]
  },
  {
   "cell_type": "code",
   "execution_count": 66,
   "id": "b966deac",
   "metadata": {},
   "outputs": [],
   "source": [
    "ridge_mod = RidgeCV(cv=50,normalize=True,alphas=alphas).fit(X_scale2[:,x_selected_polinomio], y)"
   ]
  },
  {
   "cell_type": "code",
   "execution_count": 67,
   "id": "4308d23d",
   "metadata": {},
   "outputs": [],
   "source": [
    "alpha_selected_ridge = ridge_mod.alpha_"
   ]
  },
  {
   "cell_type": "code",
   "execution_count": 68,
   "id": "5789d44d",
   "metadata": {},
   "outputs": [
    {
     "data": {
      "text/plain": [
       "0.5576386995271605"
      ]
     },
     "execution_count": 68,
     "metadata": {},
     "output_type": "execute_result"
    }
   ],
   "source": [
    "ridge_mod.score(X_scale2[:,x_selected_polinomio], y)"
   ]
  },
  {
   "cell_type": "code",
   "execution_count": 69,
   "id": "c8a8cde2",
   "metadata": {
    "scrolled": true
   },
   "outputs": [],
   "source": [
    "score_polinomio = []\n",
    "score_ridge = []\n",
    "sample = []\n",
    "for i in range(0,100):\n",
    "    train_X, val_X, train_y, val_y = train_test_split(X_scale2, y,train_size=0.8)\n",
    "    ridge = Ridge(alpha=alpha_selected_ridge).fit(train_X[:,x_selected_polinomio],train_y)\n",
    "    score_ridge.append(ridge.score(val_X[:,x_selected_polinomio],val_y))\n",
    "    pol = LinearRegression().fit(train_X[:,x_selected_polinomio],train_y)\n",
    "    score_polinomio.append(pol.score(val_X[:,x_selected_polinomio],val_y))"
   ]
  },
  {
   "cell_type": "code",
   "execution_count": 70,
   "id": "51daa517",
   "metadata": {},
   "outputs": [
    {
     "data": {
      "text/plain": [
       "<AxesSubplot:>"
      ]
     },
     "execution_count": 70,
     "metadata": {},
     "output_type": "execute_result"
    },
    {
     "data": {
      "image/png": "[encoded data removed]",
      "text/plain": [
       "<Figure size 432x288 with 1 Axes>"
      ]
     },
     "metadata": {
      "needs_background": "light"
     },
     "output_type": "display_data"
    }
   ],
   "source": [
    "prediccion_ridge = pd.DataFrame({\"Ridge\": score_ridge, \"Polinomio\":score_polinomio})\n",
    "prediccion_ridge.plot()"
   ]
  },
  {
   "cell_type": "markdown",
   "id": "0f90caf5",
   "metadata": {},
   "source": [
    "El desempeño de los modelos es bastante parecido."
   ]
  },
  {
   "cell_type": "code",
   "execution_count": 71,
   "id": "4bb07e05",
   "metadata": {},
   "outputs": [
    {
     "data": {
      "text/html": [
       "<div>\n",
       "<style scoped>\n",
       "    .dataframe tbody tr th:only-of-type {\n",
       "        vertical-align: middle;\n",
       "    }\n",
       "\n",
       "    .dataframe tbody tr th {\n",
       "        vertical-align: top;\n",
       "    }\n",
       "\n",
       "    .dataframe thead th {\n",
       "        text-align: right;\n",
       "    }\n",
       "</style>\n",
       "<table border=\"1\" class=\"dataframe\">\n",
       "  <thead>\n",
       "    <tr style=\"text-align: right;\">\n",
       "      <th></th>\n",
       "      <th>Ridge</th>\n",
       "      <th>Polinomio</th>\n",
       "    </tr>\n",
       "  </thead>\n",
       "  <tbody>\n",
       "    <tr>\n",
       "      <th>count</th>\n",
       "      <td>100.000000</td>\n",
       "      <td>100.000000</td>\n",
       "    </tr>\n",
       "    <tr>\n",
       "      <th>mean</th>\n",
       "      <td>0.538373</td>\n",
       "      <td>0.538379</td>\n",
       "    </tr>\n",
       "    <tr>\n",
       "      <th>std</th>\n",
       "      <td>0.104675</td>\n",
       "      <td>0.103575</td>\n",
       "    </tr>\n",
       "    <tr>\n",
       "      <th>min</th>\n",
       "      <td>0.219587</td>\n",
       "      <td>0.225081</td>\n",
       "    </tr>\n",
       "    <tr>\n",
       "      <th>25%</th>\n",
       "      <td>0.480862</td>\n",
       "      <td>0.481597</td>\n",
       "    </tr>\n",
       "    <tr>\n",
       "      <th>50%</th>\n",
       "      <td>0.526008</td>\n",
       "      <td>0.526500</td>\n",
       "    </tr>\n",
       "    <tr>\n",
       "      <th>75%</th>\n",
       "      <td>0.573532</td>\n",
       "      <td>0.573470</td>\n",
       "    </tr>\n",
       "    <tr>\n",
       "      <th>max</th>\n",
       "      <td>0.773338</td>\n",
       "      <td>0.774364</td>\n",
       "    </tr>\n",
       "  </tbody>\n",
       "</table>\n",
       "</div>"
      ],
      "text/plain": [
       "            Ridge   Polinomio\n",
       "count  100.000000  100.000000\n",
       "mean     0.538373    0.538379\n",
       "std      0.104675    0.103575\n",
       "min      0.219587    0.225081\n",
       "25%      0.480862    0.481597\n",
       "50%      0.526008    0.526500\n",
       "75%      0.573532    0.573470\n",
       "max      0.773338    0.774364"
      ]
     },
     "execution_count": 71,
     "metadata": {},
     "output_type": "execute_result"
    }
   ],
   "source": [
    "prediccion_ridge.describe()"
   ]
  },
  {
   "cell_type": "markdown",
   "id": "c1760c51",
   "metadata": {},
   "source": [
    "#### Lasso"
   ]
  },
  {
   "cell_type": "markdown",
   "id": "3b0695d1",
   "metadata": {},
   "source": [
    "Uno de los modelos de regularización. Se utiliza k-fold cross validation para obtener el mejor alpha que penalizan la suma absoluta de los betas. Se arma un indicador de posibles alphas y se los pasa al algoritmo para que revalué con los k-fold y asegurarnos de que sea el óptimo. Por último, se compara con el modelo de regresión lineal por cross validation."
   ]
  },
  {
   "cell_type": "code",
   "execution_count": 72,
   "id": "b9df5bd0",
   "metadata": {},
   "outputs": [],
   "source": [
    "lasso_mod = LassoCV(cv=50,alphas=alphas,random_state=0,normalize=True).fit(X_scale2[:,x_selected_polinomio], y)"
   ]
  },
  {
   "cell_type": "code",
   "execution_count": 73,
   "id": "7d81df4a",
   "metadata": {},
   "outputs": [],
   "source": [
    "alpha_selected_lasso = lasso_mod.alpha_"
   ]
  },
  {
   "cell_type": "code",
   "execution_count": 74,
   "id": "cc3749c6",
   "metadata": {},
   "outputs": [
    {
     "data": {
      "text/plain": [
       "0.5008347245409015"
      ]
     },
     "execution_count": 74,
     "metadata": {},
     "output_type": "execute_result"
    }
   ],
   "source": [
    "alpha_selected_lasso"
   ]
  },
  {
   "cell_type": "code",
   "execution_count": 75,
   "id": "0d1135e0",
   "metadata": {},
   "outputs": [
    {
     "data": {
      "text/plain": [
       "0.6461150911903137"
      ]
     },
     "execution_count": 75,
     "metadata": {},
     "output_type": "execute_result"
    }
   ],
   "source": [
    "lasso_mod.score(X_scale2[:,x_selected_polinomio],y)"
   ]
  },
  {
   "cell_type": "markdown",
   "id": "8d47debf",
   "metadata": {},
   "source": [
    "El alpha no cambió. Se realizan estimaciones con el alpha y el modelo de regresión lineal por CV"
   ]
  },
  {
   "cell_type": "code",
   "execution_count": 89,
   "id": "70986dfc",
   "metadata": {},
   "outputs": [],
   "source": [
    "score_polinomio = []\n",
    "score_ridge = []\n",
    "score_lasso = []\n",
    "sample = []\n",
    "for i in range(0,100):\n",
    "    train_X, val_X, train_y, val_y = train_test_split(X_scale2, y,train_size=0.8)\n",
    "    ridge = Ridge(alpha=alpha_selected_ridge).fit(train_X[:,x_selected_polinomio],train_y)\n",
    "    score_ridge.append(ridge.score(val_X[:,x_selected_polinomio],val_y))\n",
    "    pol = LinearRegression().fit(train_X[:,x_selected_polinomio],train_y)\n",
    "    score_polinomio.append(pol.score(val_X[:,x_selected_polinomio],val_y))\n",
    "    lasso = Lasso(alpha=alpha_selected_lasso).fit(train_X[:,x_selected_polinomio],train_y)\n",
    "    score_lasso.append(lasso.score(val_X[:,x_selected_polinomio],val_y))\n",
    "    "
   ]
  },
  {
   "cell_type": "code",
   "execution_count": 86,
   "id": "2bd244bd",
   "metadata": {},
   "outputs": [
    {
     "data": {
      "text/plain": [
       "<AxesSubplot:>"
      ]
     },
     "execution_count": 86,
     "metadata": {},
     "output_type": "execute_result"
    },
    {
     "data": {
      "image/png": "[encoded data removed]",
      "text/plain": [
       "<Figure size 432x288 with 1 Axes>"
      ]
     },
     "metadata": {
      "needs_background": "light"
     },
     "output_type": "display_data"
    }
   ],
   "source": [
    "prediccion = pd.DataFrame({\"Ridge\": score_ridge, \"Polinomio\":score_polinomio, \"Lasso\":score_lasso})\n",
    "prediccion.plot()"
   ]
  },
  {
   "cell_type": "code",
   "execution_count": 87,
   "id": "3a2a6165",
   "metadata": {
    "scrolled": true
   },
   "outputs": [
    {
     "data": {
      "text/html": [
       "<div>\n",
       "<style scoped>\n",
       "    .dataframe tbody tr th:only-of-type {\n",
       "        vertical-align: middle;\n",
       "    }\n",
       "\n",
       "    .dataframe tbody tr th {\n",
       "        vertical-align: top;\n",
       "    }\n",
       "\n",
       "    .dataframe thead th {\n",
       "        text-align: right;\n",
       "    }\n",
       "</style>\n",
       "<table border=\"1\" class=\"dataframe\">\n",
       "  <thead>\n",
       "    <tr style=\"text-align: right;\">\n",
       "      <th></th>\n",
       "      <th>Ridge</th>\n",
       "      <th>Polinomio</th>\n",
       "      <th>Lasso</th>\n",
       "    </tr>\n",
       "  </thead>\n",
       "  <tbody>\n",
       "    <tr>\n",
       "      <th>count</th>\n",
       "      <td>100.000000</td>\n",
       "      <td>100.000000</td>\n",
       "      <td>100.000000</td>\n",
       "    </tr>\n",
       "    <tr>\n",
       "      <th>mean</th>\n",
       "      <td>0.529023</td>\n",
       "      <td>0.528613</td>\n",
       "      <td>0.528996</td>\n",
       "    </tr>\n",
       "    <tr>\n",
       "      <th>std</th>\n",
       "      <td>0.086005</td>\n",
       "      <td>0.084900</td>\n",
       "      <td>0.085075</td>\n",
       "    </tr>\n",
       "    <tr>\n",
       "      <th>min</th>\n",
       "      <td>0.293817</td>\n",
       "      <td>0.300113</td>\n",
       "      <td>0.299735</td>\n",
       "    </tr>\n",
       "    <tr>\n",
       "      <th>25%</th>\n",
       "      <td>0.481314</td>\n",
       "      <td>0.481908</td>\n",
       "      <td>0.482124</td>\n",
       "    </tr>\n",
       "    <tr>\n",
       "      <th>50%</th>\n",
       "      <td>0.524000</td>\n",
       "      <td>0.522862</td>\n",
       "      <td>0.524307</td>\n",
       "    </tr>\n",
       "    <tr>\n",
       "      <th>75%</th>\n",
       "      <td>0.561965</td>\n",
       "      <td>0.561593</td>\n",
       "      <td>0.561806</td>\n",
       "    </tr>\n",
       "    <tr>\n",
       "      <th>max</th>\n",
       "      <td>0.755412</td>\n",
       "      <td>0.754743</td>\n",
       "      <td>0.754796</td>\n",
       "    </tr>\n",
       "  </tbody>\n",
       "</table>\n",
       "</div>"
      ],
      "text/plain": [
       "            Ridge   Polinomio       Lasso\n",
       "count  100.000000  100.000000  100.000000\n",
       "mean     0.529023    0.528613    0.528996\n",
       "std      0.086005    0.084900    0.085075\n",
       "min      0.293817    0.300113    0.299735\n",
       "25%      0.481314    0.481908    0.482124\n",
       "50%      0.524000    0.522862    0.524307\n",
       "75%      0.561965    0.561593    0.561806\n",
       "max      0.755412    0.754743    0.754796"
      ]
     },
     "execution_count": 87,
     "metadata": {},
     "output_type": "execute_result"
    }
   ],
   "source": [
    "prediccion.describe()"
   ]
  },
  {
   "cell_type": "markdown",
   "id": "2e29ce38",
   "metadata": {},
   "source": [
    "Los modelos tienene un desempeño similar. Sin embargo, Lasso tiene una mayor media y mediana."
   ]
  }
 ],
 "metadata": {
  "kernelspec": {
   "display_name": "Python 3",
   "language": "python",
   "name": "python3"
  },
  "language_info": {
   "codemirror_mode": {
    "name": "ipython",
    "version": 3
   },
   "file_extension": ".py",
   "mimetype": "text/x-python",
   "name": "python",
   "nbconvert_exporter": "python",
   "pygments_lexer": "ipython3",
   "version": "3.8.8"
  }
 },
 "nbformat": 4,
 "nbformat_minor": 5
}
